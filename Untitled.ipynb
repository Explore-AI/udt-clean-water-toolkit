{
 "cells": [
  {
   "cell_type": "code",
   "execution_count": null,
   "id": "862558a4-22a3-484e-9de5-dfe5ee1bc6c1",
   "metadata": {},
   "outputs": [],
   "source": [
    "from cwa.cwageodjango."
   ]
  }
 ],
 "metadata": {
  "kernelspec": {
   "display_name": "python-env",
   "language": "python",
   "name": "python-env"
  },
  "language_info": {
   "codemirror_mode": {
    "name": "ipython",
    "version": 3
   },
   "file_extension": ".py",
   "mimetype": "text/x-python",
   "name": "python",
   "nbconvert_exporter": "python",
   "pygments_lexer": "ipython3",
   "version": "3.12.2"
  }
 },
 "nbformat": 4,
 "nbformat_minor": 5
}
